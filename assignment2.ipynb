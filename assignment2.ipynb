{
 "cells": [
  {
   "cell_type": "code",
   "execution_count": 1,
   "id": "5ff7a01f-9755-47f3-94c7-5fdd52743261",
   "metadata": {},
   "outputs": [
    {
     "name": "stdout",
     "output_type": "stream",
     "text": [
      "Hello, Anjali!\n",
      "Good morning, Anjali!\n"
     ]
    }
   ],
   "source": [
    "#1 Basic Function Implementation:\n",
    "def greet(name, greeting=\"Hello\"):\n",
    "    return f\"{greeting}, {name}!\"\n",
    "message = greet(\"Anjali\")\n",
    "print(message)  \n",
    "message2 = greet(\"Anjali\", \"Good morning\")\n",
    "print(message2)  \n"
   ]
  },
  {
   "cell_type": "code",
   "execution_count": 2,
   "id": "690c9e11-73ef-4f8d-b9b4-8103fedb0e09",
   "metadata": {},
   "outputs": [
    {
     "name": "stdout",
     "output_type": "stream",
     "text": [
      "Name: Anjali, Age: 18, City: Dehradun\n",
      "Name: Akansha, Age: 25, City: Lucknow\n"
     ]
    }
   ],
   "source": [
    "#2 Named arguments:\n",
    "def create_profile( *,name, age=18, city):\n",
    "    return f\"Name: {name}, Age: {age}, City: {city}\"\n",
    "profile1 = create_profile(name=\"Anjali\", city=\"Dehradun\")\n",
    "print(profile1)  \n",
    "profile2 = create_profile(name=\"Akansha\", age=25, city=\"Lucknow\")\n",
    "print(profile2)"
   ]
  },
  {
   "cell_type": "code",
   "execution_count": 3,
   "id": "24366917-842e-4235-aa9d-3a4004256e19",
   "metadata": {},
   "outputs": [
    {
     "name": "stdout",
     "output_type": "stream",
     "text": [
      "6\n",
      "(3, {'x': 4, 'y': 5})\n"
     ]
    }
   ],
   "source": [
    "#3 **Using *args and kwargs:\n",
    "def sum_numbers(*args, **kwargs):\n",
    "    total_sum = sum(arg for arg in args if isinstance(arg, (int, float)))\n",
    "    if kwargs:\n",
    "        return total_sum, kwargs\n",
    "    else:\n",
    "        return total_sum\n",
    "print(sum_numbers(1, 2, 3))  \n",
    "print(sum_numbers(1, 2, x=4, y=5))"
   ]
  },
  {
   "cell_type": "code",
   "execution_count": 4,
   "id": "5ed08014-4aec-49b4-bc38-8d3266bb7de4",
   "metadata": {},
   "outputs": [
    {
     "name": "stdout",
     "output_type": "stream",
     "text": [
      "[1, 4, 9, 16]\n"
     ]
    }
   ],
   "source": [
    "#4 Lambdas and map:\n",
    "def square_list(numbers):\n",
    "    return list(map(lambda x: x ** 2, numbers))\n",
    "result = square_list([1, 2, 3, 4])\n",
    "print(result)"
   ]
  },
  {
   "cell_type": "code",
   "execution_count": 5,
   "id": "32440ac9-6a51-46ed-bf86-2ae4dcae9583",
   "metadata": {},
   "outputs": [
    {
     "name": "stdout",
     "output_type": "stream",
     "text": [
      "[2, 4]\n"
     ]
    }
   ],
   "source": [
    "#5 Filters and Lambdas:\n",
    "def filter_odd_numbers(numbers):\n",
    "    return list(filter(lambda x: x % 2 == 0, numbers))\n",
    "result = filter_odd_numbers([1, 2, 3, 4, 5])\n",
    "print(result)"
   ]
  },
  {
   "cell_type": "code",
   "execution_count": 6,
   "id": "175b6d31-2a00-4392-a555-0f0b28edc025",
   "metadata": {},
   "outputs": [
    {
     "name": "stdout",
     "output_type": "stream",
     "text": [
      "[0, 1, 4, 9, 16]\n"
     ]
    }
   ],
   "source": [
    "#6 Basic List Comprehension:\n",
    "squared_numbers = [x**2 for x in range(5)]\n",
    "print(squared_numbers)"
   ]
  },
  {
   "cell_type": "code",
   "execution_count": 7,
   "id": "92d4b5ba-5e72-4261-a79c-72c16402d661",
   "metadata": {},
   "outputs": [
    {
     "name": "stdout",
     "output_type": "stream",
     "text": [
      "[2, 4, 6, 8, 10, 12, 14, 16, 18, 20]\n"
     ]
    }
   ],
   "source": [
    "#7 List Comprehension with Condition:\n",
    "even_numbers = [x for x in range(1, 21) if x % 2 == 0]\n",
    "print(even_numbers)  "
   ]
  },
  {
   "cell_type": "code",
   "execution_count": 8,
   "id": "212e71fb-3899-4693-a8db-dc663b32febf",
   "metadata": {},
   "outputs": [
    {
     "name": "stdout",
     "output_type": "stream",
     "text": [
      "Directory 'test_folder' created.\n",
      "Directory 'test_folder' deleted.\n"
     ]
    }
   ],
   "source": [
    "#8 Using os and time Modules:\n",
    "import os\n",
    "import time\n",
    "def file_operations():\n",
    "    os.makedirs(\"test_folder\", exist_ok=True)\n",
    "    print(\"Directory 'test_folder' created.\")\n",
    "    time.sleep(3)\n",
    "    os.rmdir(\"test_folder\")\n",
    "    print(\"Directory 'test_folder' deleted.\")\n",
    "file_operations()"
   ]
  },
  {
   "cell_type": "code",
   "execution_count": 9,
   "id": "9054ad84-c536-4688-82a1-09292b97c90a",
   "metadata": {},
   "outputs": [
    {
     "name": "stdout",
     "output_type": "stream",
     "text": [
      "Paused execution...\n"
     ]
    }
   ],
   "source": [
    "#9 Importing Specific Functions:\n",
    "from time import sleep as pause\n",
    "pause(2)\n",
    "print(\"Paused execution...\")"
   ]
  },
  {
   "cell_type": "code",
   "execution_count": 10,
   "id": "f37b49b6-7c55-422d-8a0d-8863638852bc",
   "metadata": {},
   "outputs": [
    {
     "name": "stdout",
     "output_type": "stream",
     "text": [
      "[1, 2, 3, 4, 5, 6]\n",
      "[1, 2, 3, 4, 5]\n"
     ]
    }
   ],
   "source": [
    "#10 **Recursive Function with *args and kwargs (Flattening a List):\n",
    "def flatten_list(*args):\n",
    "    result = []    \n",
    "    for element in args:\n",
    "        if isinstance(element, list):\n",
    "            result.extend(flatten_list(*element))\n",
    "        else:\n",
    "            result.append(element) \n",
    "    return result\n",
    "print(flatten_list([1, [2, 3], [[4, 5], 6]]))  \n",
    "print(flatten_list([[1, 2], [3, [4, [5]]]]))"
   ]
  },
  {
   "cell_type": "code",
   "execution_count": null,
   "id": "7e72c12b-36ba-45f4-956c-b8997edb7ee1",
   "metadata": {},
   "outputs": [],
   "source": []
  }
 ],
 "metadata": {
  "kernelspec": {
   "display_name": "Python 3 (ipykernel)",
   "language": "python",
   "name": "python3"
  },
  "language_info": {
   "codemirror_mode": {
    "name": "ipython",
    "version": 3
   },
   "file_extension": ".py",
   "mimetype": "text/x-python",
   "name": "python",
   "nbconvert_exporter": "python",
   "pygments_lexer": "ipython3",
   "version": "3.12.5"
  }
 },
 "nbformat": 4,
 "nbformat_minor": 5
}
