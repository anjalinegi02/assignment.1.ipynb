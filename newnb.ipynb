{
 "cells": [
  {
   "cell_type": "code",
   "execution_count": 5,
   "id": "b7ede6d5-73ac-470c-abbe-460d257fae8a",
   "metadata": {},
   "outputs": [
    {
     "name": "stdin",
     "output_type": "stream",
     "text": [
      "Enter your first name:  Anjali\n",
      "Enter your last name:  Negi\n"
     ]
    },
    {
     "name": "stdout",
     "output_type": "stream",
     "text": [
      "Reversed name: igeN ilajnA\n"
     ]
    }
   ],
   "source": [
    "# Take input for first and last name\n",
    "first_name = input(\"Enter your first name: \")\n",
    "last_name = input(\"Enter your last name: \")\n",
    "\n",
    "# Reverse the first and last name and join them with a space\n",
    "x = last_name[::-1] + \" \" + first_name[::-1]\n",
    "\n",
    "# The [::-1] is a string slicing method that reverses the string.\n",
    "# + \" \" is used to concatenate the reversed names with a space in between.\n",
    "\n",
    "# Print the reversed names\n",
    "print(\"Reversed name:\",x)\n"
   ]
  },
  {
   "cell_type": "code",
   "execution_count": 6,
   "id": "031f62f3-f614-4dfd-9b7c-36b0f55823fa",
   "metadata": {},
   "outputs": [
    {
     "name": "stdin",
     "output_type": "stream",
     "text": [
      "Enter a number:  15\n"
     ]
    },
    {
     "name": "stdout",
     "output_type": "stream",
     "text": [
      "Integer: 15\n",
      "Float: 15.0\n",
      "Complex: (15+0j)\n"
     ]
    }
   ],
   "source": [
    "# Take a number as input from the user\n",
    "num = input(\"Enter a number: \")\n",
    "\n",
    "# Convert the input to an integer\n",
    "int_num = int(num)\n",
    "\n",
    "# Convert the input to a float\n",
    "float_num = float(num)\n",
    "\n",
    "# Convert the input to a complex number\n",
    "complex_num = complex(num)\n",
    "\n",
    "# Print the converted values\n",
    "print(\"Integer:\", int_num)\n",
    "print(\"Float:\", float_num)\n",
    "print(\"Complex:\", complex_num)\n",
    "\n",
    "# Explanation:\n",
    "# - Integer (int): This data type represents whole numbers without any decimal or fractional part.\n",
    "# - Float (float): This data type represents real numbers with a fractional part, indicated by a decimal point.\n",
    "# - Complex (complex): This data type represents complex numbers, which have a real part and an imaginary part. \n",
    "#   For example, '5' will be converted to (5+0j) where 'j' is the imaginary unit.\n"
   ]
  },
  {
   "cell_type": "code",
   "execution_count": 11,
   "id": "64261104-2d21-4fc7-9da1-546f6620baf4",
   "metadata": {},
   "outputs": [
    {
     "name": "stdin",
     "output_type": "stream",
     "text": [
      "Enter the length of the rectangle:  6\n",
      "Enter the width of the rectangle:  5\n"
     ]
    },
    {
     "name": "stdout",
     "output_type": "stream",
     "text": [
      "The area of the rectangle is: 30.0\n"
     ]
    }
   ],
   "source": [
    "# Prompt the user to enter the length and width of the rectangle\n",
    "length = float(input(\"Enter the length of the rectangle: \"))\n",
    "width = float(input(\"Enter the width of the rectangle: \"))\n",
    "\n",
    "# Calculate the area of the rectangle\n",
    "area = length * width\n",
    "\n",
    "# Display the result using the print function\n",
    "print(\"The area of the rectangle is:\",area)"
   ]
  },
  {
   "cell_type": "code",
   "execution_count": 12,
   "id": "7f0b00a1-ad4e-43c7-a226-d31174e9e02a",
   "metadata": {},
   "outputs": [
    {
     "name": "stdin",
     "output_type": "stream",
     "text": [
      "Enter the length of the rectangle:  15\n",
      "Enter the width of the rectangle:  20\n"
     ]
    },
    {
     "name": "stdout",
     "output_type": "stream",
     "text": [
      "The area of the rectangle is: 300.00\n"
     ]
    }
   ],
   "source": [
    "# Prompt the user to enter the length and width of the rectangle\n",
    "length = float(input(\"Enter the length of the rectangle: \"))\n",
    "width = float(input(\"Enter the width of the rectangle: \"))\n",
    "\n",
    "# Calculate the area of the rectangle\n",
    "area = length * width\n",
    "\n",
    "# Display the result using the format method to show two decimal places\n",
    "print(\"The area of the rectangle is: {:.2f}\".format(area))"
   ]
  },
  {
   "cell_type": "code",
   "execution_count": 14,
   "id": "90ddd6ac-1426-43c9-a233-55106300801d",
   "metadata": {},
   "outputs": [
    {
     "name": "stdin",
     "output_type": "stream",
     "text": [
      "Enter the first number:  10\n",
      "Enter the second number:  20\n",
      "Enter the third number:  30\n"
     ]
    },
    {
     "name": "stdout",
     "output_type": "stream",
     "text": [
      "The average of the three numbers is: 20.00\n"
     ]
    }
   ],
   "source": [
    "# Prompt the user to enter three numbers\n",
    "num1 = float(input(\"Enter the first number: \"))\n",
    "num2 = float(input(\"Enter the second number: \"))\n",
    "num3 = float(input(\"Enter the third number: \"))\n",
    "\n",
    "# Calculate the average of the three numbers\n",
    "average = (num1 + num2 + num3) / 3\n",
    "\n",
    "# Display the average using the % method for string formatting\n",
    "print(\"The average of the three numbers is: %.2f\"%average)"
   ]
  },
  {
   "cell_type": "code",
   "execution_count": 16,
   "id": "4f38bc7c-c8af-4cb7-9cc9-07bc50f95f8c",
   "metadata": {},
   "outputs": [
    {
     "name": "stdin",
     "output_type": "stream",
     "text": [
      "Enter a number (or type 'exit' to quit):  -2\n"
     ]
    },
    {
     "name": "stdout",
     "output_type": "stream",
     "text": [
      "The number is negative.\n"
     ]
    },
    {
     "name": "stdin",
     "output_type": "stream",
     "text": [
      "Enter a number (or type 'exit' to quit):  23\n"
     ]
    },
    {
     "name": "stdout",
     "output_type": "stream",
     "text": [
      "The number is positive.\n"
     ]
    },
    {
     "name": "stdin",
     "output_type": "stream",
     "text": [
      "Enter a number (or type 'exit' to quit):  0\n"
     ]
    },
    {
     "name": "stdout",
     "output_type": "stream",
     "text": [
      "The number is zero.\n"
     ]
    },
    {
     "name": "stdin",
     "output_type": "stream",
     "text": [
      "Enter a number (or type 'exit' to quit):  exit\n"
     ]
    }
   ],
   "source": [
    "while True:\n",
    "    user_input = input(\"Enter a number (or type 'exit' to quit): \")\n",
    "    \n",
    "    # Check if the user wants to exit\n",
    "    if user_input.lower() == 'exit':\n",
    "        break\n",
    "    \n",
    "    try:\n",
    "        # Convert the input to a number\n",
    "        number = float(user_input)\n",
    "        \n",
    "        # Determine if the number is positive, negative, or zero\n",
    "        if number > 0:\n",
    "            print(\"The number is positive.\")\n",
    "        elif number < 0:\n",
    "            print(\"The number is negative.\")\n",
    "        else:\n",
    "            print(\"The number is zero.\")\n",
    "    \n",
    "    except ValueError:\n",
    "        # If the input is not a valid number, continue to the next iteration\n",
    "        print(\"Invalid input, please enter a valid number.\")\n",
    "        continue\n"
   ]
  },
  {
   "cell_type": "code",
   "execution_count": 17,
   "id": "c67bdad4-94e6-4051-8041-fd425854f043",
   "metadata": {},
   "outputs": [
    {
     "name": "stdin",
     "output_type": "stream",
     "text": [
      "Enter the first number:  24\n",
      "Enter the second number:  43\n"
     ]
    },
    {
     "name": "stdout",
     "output_type": "stream",
     "text": [
      "One number is even and the other is odd.\n"
     ]
    }
   ],
   "source": [
    "num1 = int(input(\"Enter the first number: \"))\n",
    "num2 = int(input(\"Enter the second number: \"))\n",
    "if num1 % 2 == 0 and num2 % 2 == 0:\n",
    "    print(\"Both numbers are even.\")\n",
    "elif num1 % 2 != 0 and num2 % 2 != 0:\n",
    "    print(\"Both numbers are odd.\")\n",
    "else:\n",
    "    print(\"One number is even and the other is odd.\")"
   ]
  },
  {
   "cell_type": "code",
   "execution_count": 18,
   "id": "deec75f1-b465-40d5-998b-4203e63f1561",
   "metadata": {},
   "outputs": [
    {
     "name": "stdin",
     "output_type": "stream",
     "text": [
      "Enter an integer:  24\n"
     ]
    },
    {
     "name": "stdout",
     "output_type": "stream",
     "text": [
      "Binary: 0b11000\n",
      "Octal: 0o30\n",
      "Hexadecimal: 0x18\n",
      "Binary: 0b11000\n",
      "Octal: 0o30\n",
      "Hexadecimal: 0x18\n"
     ]
    }
   ],
   "source": [
    "num = int(input(\"Enter an integer: \"))\n",
    "\n",
    "# Print the binary, octal, and hexadecimal equivalents\n",
    "print(\"Binary:\", bin(num))\n",
    "print(\"Octal:\", oct(num))\n",
    "print(\"Hexadecimal:\", hex(num))\n",
    "\n",
    "# Alternatively, using a for loop to demonstrate iterating over the formats\n",
    "formats = ['Binary', 'Octal', 'Hexadecimal']\n",
    "for fmt in formats:\n",
    "    if fmt == 'Binary':\n",
    "        print(f\"{fmt}: {bin(num)}\")\n",
    "    elif fmt == 'Octal':\n",
    "        print(f\"{fmt}: {oct(num)}\")\n",
    "    elif fmt == 'Hexadecimal':\n",
    "        print(f\"{fmt}: {hex(num)}\")"
   ]
  },
  {
   "cell_type": "code",
   "execution_count": null,
   "id": "e76e549b-1296-4f7f-a1c6-97de93356a0b",
   "metadata": {},
   "outputs": [],
   "source": []
  }
 ],
 "metadata": {
  "kernelspec": {
   "display_name": "Python 3 (ipykernel)",
   "language": "python",
   "name": "python3"
  },
  "language_info": {
   "codemirror_mode": {
    "name": "ipython",
    "version": 3
   },
   "file_extension": ".py",
   "mimetype": "text/x-python",
   "name": "python",
   "nbconvert_exporter": "python",
   "pygments_lexer": "ipython3",
   "version": "3.12.5"
  }
 },
 "nbformat": 4,
 "nbformat_minor": 5
}
